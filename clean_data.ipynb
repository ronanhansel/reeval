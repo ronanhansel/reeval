{
 "cells": [
  {
   "cell_type": "code",
   "execution_count": 1,
   "metadata": {},
   "outputs": [],
   "source": [
    "import pandas as pd\n",
    "import os\n",
    "\n",
    "input_dir = \"./raw_data\"\n",
    "\n",
    "perturb_list = [\"base\", \"perturb1\", \"perturb2\"]\n",
    "i = 0\n",
    "\n",
    "for perturb in perturb_list:\n",
    "    output_dir = f\"./clean_data/{perturb}\"\n",
    "    os.makedirs(output_dir, exist_ok=True)\n",
    "\n",
    "    for filename in os.listdir(input_dir):\n",
    "        if filename.endswith(\".csv\"):\n",
    "            infile_path = os.path.join(input_dir, filename)\n",
    "            outfile_path = os.path.join(output_dir, f\"{perturb}_{filename}\")\n",
    "            \n",
    "            data = pd.read_csv(infile_path)\n",
    "        \n",
    "            columns_to_keep = ['cate-idx', 'l2-name', 'l3-name', 'l4-name', 'prompt', 'score']\n",
    "            data = data[columns_to_keep]\n",
    "            \n",
    "            data = data.iloc[i::3, :]\n",
    "            \n",
    "            data.to_csv(outfile_path, index=False)\n",
    "\n",
    "    i += 1"
   ]
  }
 ],
 "metadata": {
  "kernelspec": {
   "display_name": "base",
   "language": "python",
   "name": "python3"
  },
  "language_info": {
   "codemirror_mode": {
    "name": "ipython",
    "version": 3
   },
   "file_extension": ".py",
   "mimetype": "text/x-python",
   "name": "python",
   "nbconvert_exporter": "python",
   "pygments_lexer": "ipython3",
   "version": "3.10.9"
  }
 },
 "nbformat": 4,
 "nbformat_minor": 2
}

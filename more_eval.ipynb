{
 "cells": [
  {
   "cell_type": "code",
   "execution_count": 10,
   "metadata": {},
   "outputs": [],
   "source": [
    "import csv\n",
    "from gpt_batch.batcher import GPTBatcher\n",
    "import datasets\n",
    "import os\n",
    "from dotenv import load_dotenv\n",
    "\n",
    "def extract_content(tag, text):\n",
    "    start_idx = text.find(tag)\n",
    "    # if start_idx == -1:\n",
    "    #     return None\n",
    "    start_of_content = start_idx + len(tag)\n",
    "    if tag == \"##the_score: \":\n",
    "        end_idx = text.find(\"\\n\", start_of_content)\n",
    "    else:\n",
    "        end_idx = text.find(\".\\n##\", start_of_content)\n",
    "    if end_idx == -1:\n",
    "        content = text[start_of_content:].strip()\n",
    "    else:\n",
    "        content = text[start_of_content:end_idx].strip()\n",
    "    return content\n",
    "\n",
    "load_dotenv()\n",
    "openai_key = os.getenv('OPENAI_API_KEY')\n",
    "\n",
    "batcher = GPTBatcher(api_key=openai_key,\n",
    "                     model_name='gpt-4o',\n",
    "                     temperature=0,\n",
    "                     num_workers=64,\n",
    "                    )"
   ]
  },
  {
   "cell_type": "code",
   "execution_count": 11,
   "metadata": {},
   "outputs": [
    {
     "name": "stdout",
     "output_type": "stream",
     "text": [
      "Snowflake_snowflake-arctic-instruct_result.csv\n"
     ]
    },
    {
     "name": "stderr",
     "output_type": "stream",
     "text": [
      "Processing messages: 100%|██████████| 21/21 [01:14<00:00,  3.56s/it]\n"
     ]
    },
    {
     "name": "stdout",
     "output_type": "stream",
     "text": [
      "deepseek-ai_deepseek-coder-33b-instruct_result.csv\n"
     ]
    },
    {
     "name": "stderr",
     "output_type": "stream",
     "text": [
      "Processing messages: 100%|██████████| 21/21 [00:46<00:00,  2.21s/it]\n"
     ]
    },
    {
     "name": "stdout",
     "output_type": "stream",
     "text": [
      "teknium_OpenHermes-2-Mistral-7B_result.csv\n"
     ]
    },
    {
     "name": "stderr",
     "output_type": "stream",
     "text": [
      "Processing messages: 100%|██████████| 21/21 [00:53<00:00,  2.54s/it]\n"
     ]
    },
    {
     "name": "stdout",
     "output_type": "stream",
     "text": [
      "Qwen_Qwen1.5-32B-Chat_result.csv\n"
     ]
    },
    {
     "name": "stderr",
     "output_type": "stream",
     "text": [
      "Processing messages: 100%|██████████| 21/21 [01:48<00:00,  5.17s/it]\n"
     ]
    },
    {
     "name": "stdout",
     "output_type": "stream",
     "text": [
      "meta-llama_Llama-2-13b-chat-hf_result.csv\n"
     ]
    },
    {
     "name": "stderr",
     "output_type": "stream",
     "text": [
      "Processing messages: 100%|██████████| 21/21 [01:01<00:00,  2.95s/it]\n"
     ]
    },
    {
     "name": "stdout",
     "output_type": "stream",
     "text": [
      "Qwen_Qwen1.5-0.5B-Chat_result.csv\n"
     ]
    },
    {
     "name": "stderr",
     "output_type": "stream",
     "text": [
      "Processing messages: 100%|██████████| 21/21 [01:11<00:00,  3.43s/it]\n"
     ]
    },
    {
     "name": "stdout",
     "output_type": "stream",
     "text": [
      "NousResearch_Nous-Hermes-2-Mixtral-8x7B-DPO_result.csv\n"
     ]
    },
    {
     "name": "stderr",
     "output_type": "stream",
     "text": [
      "Processing messages: 100%|██████████| 21/21 [01:07<00:00,  3.20s/it]\n"
     ]
    },
    {
     "name": "stdout",
     "output_type": "stream",
     "text": [
      "google_gemma-7b-it_result.csv\n"
     ]
    },
    {
     "name": "stderr",
     "output_type": "stream",
     "text": [
      "Processing messages: 100%|██████████| 21/21 [00:59<00:00,  2.83s/it]\n"
     ]
    },
    {
     "name": "stdout",
     "output_type": "stream",
     "text": [
      "garage-bAInd_Platypus2-70B-instruct_result.csv\n"
     ]
    },
    {
     "name": "stderr",
     "output_type": "stream",
     "text": [
      "Processing messages: 100%|██████████| 21/21 [00:53<00:00,  2.53s/it]\n"
     ]
    },
    {
     "name": "stdout",
     "output_type": "stream",
     "text": [
      "Open-Orca_Mistral-7B-OpenOrca_result.csv\n"
     ]
    },
    {
     "name": "stderr",
     "output_type": "stream",
     "text": [
      "Processing messages: 100%|██████████| 21/21 [00:59<00:00,  2.85s/it]\n"
     ]
    },
    {
     "name": "stdout",
     "output_type": "stream",
     "text": [
      "Austism_chronos-hermes-13b_result.csv\n"
     ]
    },
    {
     "name": "stderr",
     "output_type": "stream",
     "text": [
      "Processing messages: 100%|██████████| 21/21 [02:18<00:00,  6.59s/it]\n"
     ]
    },
    {
     "name": "stdout",
     "output_type": "stream",
     "text": [
      "codellama_CodeLlama-70b-Instruct-hf_result.csv\n"
     ]
    },
    {
     "name": "stderr",
     "output_type": "stream",
     "text": [
      "Processing messages: 100%|██████████| 21/21 [01:02<00:00,  2.97s/it]\n"
     ]
    },
    {
     "name": "stdout",
     "output_type": "stream",
     "text": [
      "mistralai_Mistral-7B-Instruct-v0.2_result.csv\n"
     ]
    },
    {
     "name": "stderr",
     "output_type": "stream",
     "text": [
      "Processing messages: 100%|██████████| 21/21 [01:09<00:00,  3.30s/it]\n"
     ]
    },
    {
     "name": "stdout",
     "output_type": "stream",
     "text": [
      "google_gemma-2b-it_result.csv\n"
     ]
    },
    {
     "name": "stderr",
     "output_type": "stream",
     "text": [
      "Processing messages: 100%|██████████| 21/21 [01:44<00:00,  5.00s/it]\n"
     ]
    },
    {
     "name": "stdout",
     "output_type": "stream",
     "text": [
      "meta-llama_Llama-2-7b-chat-hf_result.csv\n"
     ]
    },
    {
     "name": "stderr",
     "output_type": "stream",
     "text": [
      "Processing messages: 100%|██████████| 21/21 [01:00<00:00,  2.89s/it]\n"
     ]
    },
    {
     "name": "stdout",
     "output_type": "stream",
     "text": [
      "Undi95_Toppy-M-7B_result.csv\n"
     ]
    },
    {
     "name": "stderr",
     "output_type": "stream",
     "text": [
      "Processing messages: 100%|██████████| 21/21 [01:03<00:00,  3.04s/it]\n"
     ]
    },
    {
     "name": "stdout",
     "output_type": "stream",
     "text": [
      "togethercomputer_StripedHyena-Nous-7B_result.csv\n"
     ]
    },
    {
     "name": "stderr",
     "output_type": "stream",
     "text": [
      "Processing messages: 100%|██████████| 21/21 [01:11<00:00,  3.42s/it]\n"
     ]
    },
    {
     "name": "stdout",
     "output_type": "stream",
     "text": [
      "codellama_CodeLlama-34b-Instruct-hf_result.csv\n"
     ]
    },
    {
     "name": "stderr",
     "output_type": "stream",
     "text": [
      "Processing messages: 100%|██████████| 21/21 [01:09<00:00,  3.33s/it]\n"
     ]
    },
    {
     "name": "stdout",
     "output_type": "stream",
     "text": [
      "NousResearch_Nous-Hermes-Llama2-13b_result.csv\n"
     ]
    },
    {
     "name": "stderr",
     "output_type": "stream",
     "text": [
      "Processing messages: 100%|██████████| 21/21 [01:18<00:00,  3.76s/it]\n"
     ]
    },
    {
     "name": "stdout",
     "output_type": "stream",
     "text": [
      "Gryphe_MythoMax-L2-13b_result.csv\n"
     ]
    },
    {
     "name": "stderr",
     "output_type": "stream",
     "text": [
      "Processing messages: 100%|██████████| 21/21 [01:12<00:00,  3.43s/it]\n"
     ]
    },
    {
     "name": "stdout",
     "output_type": "stream",
     "text": [
      "snorkelai_Snorkel-Mistral-PairRM-DPO_result.csv\n"
     ]
    },
    {
     "name": "stderr",
     "output_type": "stream",
     "text": [
      "Processing messages: 100%|██████████| 21/21 [01:07<00:00,  3.20s/it]\n"
     ]
    },
    {
     "name": "stdout",
     "output_type": "stream",
     "text": [
      "lmsys_vicuna-7b-v1.5_result.csv\n"
     ]
    },
    {
     "name": "stderr",
     "output_type": "stream",
     "text": [
      "Processing messages: 100%|██████████| 21/21 [00:54<00:00,  2.59s/it]\n"
     ]
    },
    {
     "name": "stdout",
     "output_type": "stream",
     "text": [
      "Qwen_Qwen1.5-7B-Chat_result.csv\n"
     ]
    },
    {
     "name": "stderr",
     "output_type": "stream",
     "text": [
      "Processing messages: 100%|██████████| 21/21 [01:02<00:00,  2.99s/it]\n"
     ]
    },
    {
     "name": "stdout",
     "output_type": "stream",
     "text": [
      "Qwen_Qwen1.5-1.8B-Chat_result.csv\n"
     ]
    },
    {
     "name": "stderr",
     "output_type": "stream",
     "text": [
      "Processing messages: 100%|██████████| 21/21 [01:06<00:00,  3.15s/it]\n"
     ]
    },
    {
     "name": "stdout",
     "output_type": "stream",
     "text": [
      "NousResearch_Nous-Capybara-7B-V1p9_result.csv\n"
     ]
    },
    {
     "name": "stderr",
     "output_type": "stream",
     "text": [
      "Processing messages: 100%|██████████| 21/21 [01:00<00:00,  2.88s/it]\n"
     ]
    },
    {
     "name": "stdout",
     "output_type": "stream",
     "text": [
      "NousResearch_Nous-Hermes-2-Yi-34B_result.csv\n"
     ]
    },
    {
     "name": "stderr",
     "output_type": "stream",
     "text": [
      "Processing messages: 100%|██████████| 21/21 [01:09<00:00,  3.30s/it]\n"
     ]
    },
    {
     "name": "stdout",
     "output_type": "stream",
     "text": [
      "cognitivecomputations_dolphin-2.5-mixtral-8x7b_result.csv\n"
     ]
    },
    {
     "name": "stderr",
     "output_type": "stream",
     "text": [
      "Processing messages: 100%|██████████| 21/21 [02:07<00:00,  6.08s/it]\n"
     ]
    },
    {
     "name": "stdout",
     "output_type": "stream",
     "text": [
      "NousResearch_Nous-Hermes-2-Mixtral-8x7B-SFT_result.csv\n"
     ]
    },
    {
     "name": "stderr",
     "output_type": "stream",
     "text": [
      "Processing messages: 100%|██████████| 21/21 [01:05<00:00,  3.11s/it]\n"
     ]
    },
    {
     "name": "stdout",
     "output_type": "stream",
     "text": [
      "upstage_SOLAR-10.7B-Instruct-v1.0_result.csv\n"
     ]
    },
    {
     "name": "stderr",
     "output_type": "stream",
     "text": [
      "Processing messages: 100%|██████████| 21/21 [01:16<00:00,  3.64s/it]\n"
     ]
    },
    {
     "name": "stdout",
     "output_type": "stream",
     "text": [
      "Qwen_Qwen1.5-110B-Chat_result.csv\n"
     ]
    },
    {
     "name": "stderr",
     "output_type": "stream",
     "text": [
      "Processing messages: 100%|██████████| 21/21 [22:19<00:00, 63.81s/it] \n"
     ]
    },
    {
     "name": "stdout",
     "output_type": "stream",
     "text": [
      "Qwen_Qwen2-72B-Instruct_result.csv\n"
     ]
    },
    {
     "name": "stderr",
     "output_type": "stream",
     "text": [
      "Processing messages: 100%|██████████| 21/21 [01:04<00:00,  3.05s/it]\n"
     ]
    },
    {
     "name": "stdout",
     "output_type": "stream",
     "text": [
      "Qwen_Qwen1.5-4B-Chat_result.csv\n"
     ]
    },
    {
     "name": "stderr",
     "output_type": "stream",
     "text": [
      "Processing messages: 100%|██████████| 21/21 [00:58<00:00,  2.78s/it]\n"
     ]
    },
    {
     "name": "stdout",
     "output_type": "stream",
     "text": [
      "mistralai_Mistral-7B-Instruct-v0.1_result.csv\n"
     ]
    },
    {
     "name": "stderr",
     "output_type": "stream",
     "text": [
      "Processing messages: 100%|██████████| 21/21 [01:07<00:00,  3.20s/it]\n"
     ]
    },
    {
     "name": "stdout",
     "output_type": "stream",
     "text": [
      "lmsys_vicuna-13b-v1.5_result.csv\n"
     ]
    },
    {
     "name": "stderr",
     "output_type": "stream",
     "text": [
      "Processing messages: 100%|██████████| 21/21 [00:54<00:00,  2.59s/it]\n"
     ]
    },
    {
     "name": "stdout",
     "output_type": "stream",
     "text": [
      "codellama_CodeLlama-7b-Instruct-hf_result.csv\n"
     ]
    },
    {
     "name": "stderr",
     "output_type": "stream",
     "text": [
      "Processing messages: 100%|██████████| 21/21 [00:46<00:00,  2.19s/it]\n"
     ]
    },
    {
     "name": "stdout",
     "output_type": "stream",
     "text": [
      "WizardLM_WizardLM-13B-V1.2_result.csv\n"
     ]
    },
    {
     "name": "stderr",
     "output_type": "stream",
     "text": [
      "Processing messages: 100%|██████████| 21/21 [01:03<00:00,  3.00s/it]\n"
     ]
    },
    {
     "name": "stdout",
     "output_type": "stream",
     "text": [
      "NousResearch_Nous-Hermes-2-Mistral-7B-DPO_result.csv\n"
     ]
    },
    {
     "name": "stderr",
     "output_type": "stream",
     "text": [
      "Processing messages: 100%|██████████| 21/21 [01:18<00:00,  3.72s/it]\n"
     ]
    },
    {
     "name": "stdout",
     "output_type": "stream",
     "text": [
      "teknium_OpenHermes-2p5-Mistral-7B_result.csv\n"
     ]
    },
    {
     "name": "stderr",
     "output_type": "stream",
     "text": [
      "Processing messages: 100%|██████████| 21/21 [00:56<00:00,  2.69s/it]\n"
     ]
    },
    {
     "name": "stdout",
     "output_type": "stream",
     "text": [
      "meta-llama_Llama-2-70b-chat-hf_result.csv\n"
     ]
    },
    {
     "name": "stderr",
     "output_type": "stream",
     "text": [
      "Processing messages: 100%|██████████| 21/21 [01:06<00:00,  3.15s/it]\n"
     ]
    },
    {
     "name": "stdout",
     "output_type": "stream",
     "text": [
      "openchat_openchat-3.5-1210_result.csv\n"
     ]
    },
    {
     "name": "stderr",
     "output_type": "stream",
     "text": [
      "Processing messages: 100%|██████████| 21/21 [00:54<00:00,  2.59s/it]\n"
     ]
    },
    {
     "name": "stdout",
     "output_type": "stream",
     "text": [
      "NousResearch_Nous-Hermes-llama-2-7b_result.csv\n"
     ]
    },
    {
     "name": "stderr",
     "output_type": "stream",
     "text": [
      "Processing messages: 100%|██████████| 21/21 [00:43<00:00,  2.06s/it]\n"
     ]
    },
    {
     "name": "stdout",
     "output_type": "stream",
     "text": [
      "codellama_CodeLlama-13b-Instruct-hf_result.csv\n"
     ]
    },
    {
     "name": "stderr",
     "output_type": "stream",
     "text": [
      "Processing messages: 100%|██████████| 21/21 [00:58<00:00,  2.78s/it]\n"
     ]
    },
    {
     "name": "stdout",
     "output_type": "stream",
     "text": [
      "Qwen_Qwen1.5-14B-Chat_result.csv\n"
     ]
    },
    {
     "name": "stderr",
     "output_type": "stream",
     "text": [
      "Processing messages: 100%|██████████| 21/21 [00:47<00:00,  2.27s/it]\n"
     ]
    }
   ],
   "source": [
    "judge_prompt_list = datasets.load_dataset(\"stanford-crfm/air-bench-2024\", \"judge_prompts\", split=\"test\")\n",
    "input_dir = \"./raw_data_more/answer\"\n",
    "output_dir = f\"./raw_data_more\"\n",
    "\n",
    "for filename in os.listdir(input_dir):\n",
    "    if filename.endswith(\".csv\"):\n",
    "        print(filename)\n",
    "        infile_path = os.path.join(input_dir, filename)\n",
    "        outfile_path = os.path.join(output_dir, filename)\n",
    "    \n",
    "        with open(infile_path, 'r', newline='', encoding='utf-8') as infile:\n",
    "            reader = csv.reader(infile)\n",
    "            next(reader) # skip first row\n",
    "\n",
    "            question_list = []\n",
    "            row_list = []\n",
    "\n",
    "            for i, row in enumerate(reader):\n",
    "                cate_idx, l2_name, l3_name, l4_name, prompt, response = row\n",
    "\n",
    "                # find corresponding judge_prompt\n",
    "                for data in judge_prompt_list:\n",
    "                    if data['cate-idx'] == cate_idx:\n",
    "                        judge_prompt = data['judge_prompt']\n",
    "\n",
    "                row_list.append([cate_idx, l2_name, l3_name, l4_name, prompt, response, judge_prompt])\n",
    "                question_list.append(judge_prompt.replace(\"{{QUESTION}}\", prompt).replace(\"{{ANSWER}}\", response))\n",
    "\n",
    "        # print(question_list[0])\n",
    "        result_list = batcher.handle_message_list(question_list)\n",
    "\n",
    "        reason_list = [extract_content(\"##short_reasoning: \", result) for result in result_list]\n",
    "        score_list = [float(extract_content(\"##the_score: \", result)) for result in result_list]\n",
    "\n",
    "        with open(outfile_path, 'w', newline='', encoding='utf-8') as outfile:\n",
    "            writer = csv.writer(outfile)\n",
    "            writer.writerow(['cate-idx', 'l2-name', 'l3-name', 'l4-name', 'prompt', 'response','judge_prompt','score_reason', 'score'])\n",
    "\n",
    "            for i, row in enumerate(row_list):\n",
    "                cate_idx, l2_name, l3_name, l4_name, prompt, response, judge_prompt = row\n",
    "                reason = reason_list[i]\n",
    "                score = score_list[i]\n",
    "\n",
    "                writer.writerow([cate_idx, l2_name, l3_name, l4_name, prompt, response, judge_prompt, reason, score])\n",
    "        "
   ]
  }
 ],
 "metadata": {
  "kernelspec": {
   "display_name": "base",
   "language": "python",
   "name": "python3"
  },
  "language_info": {
   "codemirror_mode": {
    "name": "ipython",
    "version": 3
   },
   "file_extension": ".py",
   "mimetype": "text/x-python",
   "name": "python",
   "nbconvert_exporter": "python",
   "pygments_lexer": "ipython3",
   "version": "3.10.9"
  }
 },
 "nbformat": 4,
 "nbformat_minor": 2
}
